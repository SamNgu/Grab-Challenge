{
 "cells": [
  {
   "cell_type": "code",
   "execution_count": null,
   "metadata": {},
   "outputs": [],
   "source": [
    "import numpy as np\n",
    "import pandas as pd\n",
    "import Geohash as gh\n",
    "\n",
    "# Running this notebook requires the following files and folders:\n",
    "#     1. \"./training.csv\"\n",
    "\n",
    "# Running this notebook outputs the following files and folders:\n",
    "#     1. \"./full_matrix.npy\"\n",
    "#     2. \"./train_matrix.npy\"\n",
    "#     3. \"./test_matrix.npy\"\n",
    "#     4. \"./coords_mapping.npy\""
   ]
  },
  {
   "cell_type": "code",
   "execution_count": null,
   "metadata": {},
   "outputs": [],
   "source": [
    "df = pd.read_csv(\"./training.csv\")"
   ]
  },
  {
   "cell_type": "code",
   "execution_count": null,
   "metadata": {
    "scrolled": false
   },
   "outputs": [],
   "source": [
    "#Pre-process the data into time-series data first\n",
    "#Define timestamp to be have one day cycle, ie 24hrs x 4 (15 min buckets) = 96\n",
    "\n",
    "#reformat timestamp\n",
    "ts_df = pd.DataFrame({'timestamp' : df['timestamp'].unique()})\n",
    "ts_df[['h','m']]=ts_df['timestamp'].apply(lambda cell: pd.Series(cell.split(\":\")))\n",
    "ts_df['h'] = ts_df['h'].apply(lambda cell:int(cell)*4)\n",
    "ts_df['m'] = ts_df['m'].apply(lambda cell:int(cell)/15)\n",
    "ts_df['new_ts']= ts_df['h'] + ts_df['m']\n",
    "df = df.merge(ts_df.drop(['h','m'],axis=1), on ='timestamp', how='inner')\n",
    "\n",
    "#Get lattitude & longtitude using geohash library & index them for CNN input\n",
    "coords_df = pd.DataFrame({'geohash6' : df['geohash6'].unique()})\n",
    "coords_df[['lat','long','lat_err','long_err']]=coords_df['geohash6'].apply(lambda cell: pd.Series(gh.decode_exactly(cell))).astype('float64')\n",
    "\n",
    "map_lat_df=pd.DataFrame({'lat': coords_df['lat'].unique()}).sort_values(by=['lat'],ascending=True).reset_index(drop=True)\n",
    "map_lat_df = map_lat_df.reset_index().rename(columns={'index':'lat_index'})\n",
    "map_long_df=pd.DataFrame({'long': coords_df['long'].unique()}).sort_values(by=['long'],ascending=True).reset_index(drop=True)\n",
    "map_long_df = map_long_df.reset_index().rename(columns={'index':'long_index'})\n",
    "\n",
    "coords_df = coords_df.merge(map_lat_df, on='lat', how='inner')\n",
    "coords_df = coords_df.merge(map_long_df, on='long', how='inner')\n",
    "\n",
    "# Store coords_df to CSV file in the current directory for mapping of test data to lat / long index\n",
    "coords_df.to_csv(\"./coords_mapping.csv\",index=False)\n",
    "\n",
    "df = df.merge(coords_df.drop(columns=['lat','long','lat_err','long_err']), on='geohash6', how='inner')\n",
    "df = df.drop(columns = ['geohash6','timestamp'])"
   ]
  },
  {
   "cell_type": "code",
   "execution_count": null,
   "metadata": {},
   "outputs": [],
   "source": [
    "df['time-series'] = df['day'].apply(lambda cell: (cell-1)*24*4) + df['new_ts']\n",
    "df['time-series'] = df['time-series'] - df['time-series'].min()\n",
    "df['time-series'] = df['time-series'].astype(int)\n",
    "df = df.drop(columns = ['day','new_ts'])\n",
    "df = df.sort_values(by=['time-series','long_index'],ascending=True)"
   ]
  },
  {
   "cell_type": "code",
   "execution_count": null,
   "metadata": {
    "scrolled": true
   },
   "outputs": [],
   "source": [
    "# Convert the data into matrix of shape [n_samples, time-series, longtitude, lattitude, depth] to feed into ConvLSTM for training\n",
    "import time\n",
    "t1= time.time()\n",
    "time_grouped = df.groupby('time-series')\n",
    "\n",
    "n_samples = 1\n",
    "n_frames = df['time-series'].max().astype(int) + 1\n",
    "long = df['long_index'].max().astype(int) + 1\n",
    "lat = df['lat_index'].max().astype(int) + 1\n",
    "\n",
    "input_matrix = np.zeros((n_samples, n_frames, long, lat, 1), dtype=np.float)\n",
    "# print(input_matrix.shape)\n",
    "\n",
    "#Create an array of zeros to fill in Dataframe, then use max() on 'demand'\n",
    "#So that can bulk insert columns of matrix, to speed up operations instead of iterating through each \"lattitude\" matrix index\n",
    "a = np.zeros((46,4), dtype=np.int)\n",
    "a[:, 1] =  np.linspace(0, 45, 46,dtype=int)\n",
    "df_zeros = pd.DataFrame({'demand':a[:,0],'lat_index':a[:,1],'long_index':a[:,2],'time-series':a[:,3]})\n",
    "\n",
    "#time_val here is the values from 'time-series', also the index number for the time   \n",
    "for time_val, time_dfs in time_grouped:    \n",
    "    long_group = time_dfs.groupby('long_index')\n",
    "    print('Mapping Data into 2D: {} of {}.'.format(time_val+1,n_frames), end='\\r')    \n",
    "    #long_val here is the values from 'long_index', also the index number for the row\n",
    "    for long_val, long_dfs in long_group:        \n",
    "        long_dfs = long_dfs.append(df_zeros)\n",
    "        long_dfs = long_dfs.groupby('lat_index').max().reset_index()\n",
    "        b = long_dfs['demand'].values        \n",
    "        c = np.matrix(b.tolist())\n",
    "        input_matrix[n_samples-1,time_val,long_val,:,0]=c.reshape(46)\n",
    "#         print(c)\n",
    "#         print(long_dfs)\n",
    "print('Operation completed in ' + str(time.time()-t1))"
   ]
  },
  {
   "cell_type": "code",
   "execution_count": null,
   "metadata": {},
   "outputs": [],
   "source": [
    "#Splits and saves the train, test and full matrix into .npy files\n",
    "Split_at_Day = 46\n",
    "Split_index = Split_at_Day*24*4\n",
    "\n",
    "full_matrix = input_matrix[:,:,:,:,:]\n",
    "train_matrix = input_matrix[:,:Split_index,:,:,:]\n",
    "test_matrix = input_matrix[:,Split_index:,:,:,:]\n",
    "\n",
    "np.save('./full_matrix.npy', full_matrix)\n",
    "np.save('./train_matrix.npy', train_matrix)\n",
    "np.save('./test_matrix.npy', test_matrix)"
   ]
  }
 ],
 "metadata": {
  "kernelspec": {
   "display_name": "Python 3",
   "language": "python",
   "name": "python3"
  },
  "language_info": {
   "codemirror_mode": {
    "name": "ipython",
    "version": 3
   },
   "file_extension": ".py",
   "mimetype": "text/x-python",
   "name": "python",
   "nbconvert_exporter": "python",
   "pygments_lexer": "ipython3",
   "version": "3.7.2"
  }
 },
 "nbformat": 4,
 "nbformat_minor": 2
}
